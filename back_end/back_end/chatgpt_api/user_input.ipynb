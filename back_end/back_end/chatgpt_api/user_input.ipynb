{
 "cells": [
  {
   "cell_type": "code",
   "execution_count": 2,
   "metadata": {},
   "outputs": [
    {
     "ename": "ImportError",
     "evalue": "attempted relative import with no known parent package",
     "output_type": "error",
     "traceback": [
      "\u001b[1;31m---------------------------------------------------------------------------\u001b[0m",
      "\u001b[1;31mImportError\u001b[0m                               Traceback (most recent call last)",
      "Cell \u001b[1;32mIn[2], line 2\u001b[0m\n\u001b[0;32m      1\u001b[0m \u001b[39mfrom\u001b[39;00m \u001b[39mutils\u001b[39;00m\u001b[39m.\u001b[39;00m\u001b[39mchatgpt_utils\u001b[39;00m \u001b[39mimport\u001b[39;00m num_tokens_from_messages\n\u001b[1;32m----> 2\u001b[0m \u001b[39mfrom\u001b[39;00m \u001b[39mchat_model\u001b[39;00m \u001b[39mimport\u001b[39;00m ChatModel\n\u001b[0;32m      3\u001b[0m \u001b[39mimport\u001b[39;00m \u001b[39mopenai\u001b[39;00m\n\u001b[0;32m      5\u001b[0m chatModel \u001b[39m=\u001b[39m ChatModel()\n",
      "File \u001b[1;32mc:\\Users\\zzk56\\Desktop\\bs\\back_end\\back_end\\chatgpt_api\\chat_model.py:2\u001b[0m\n\u001b[0;32m      1\u001b[0m \u001b[39mimport\u001b[39;00m \u001b[39mopenai\u001b[39;00m\n\u001b[1;32m----> 2\u001b[0m \u001b[39mfrom\u001b[39;00m \u001b[39m.\u001b[39;00m\u001b[39mutils\u001b[39;00m\u001b[39m.\u001b[39;00m\u001b[39mchatgpt_utils\u001b[39;00m \u001b[39mimport\u001b[39;00m num_tokens_from_messages\n\u001b[0;32m      4\u001b[0m \u001b[39mclass\u001b[39;00m \u001b[39mChatModel\u001b[39;00m:\n\u001b[0;32m      5\u001b[0m \u001b[39m    \u001b[39m\u001b[39m'''\u001b[39;00m\n\u001b[0;32m      6\u001b[0m \u001b[39m    add_system_message\u001b[39;00m\n\u001b[0;32m      7\u001b[0m \u001b[39m    add_example_question\u001b[39;00m\n\u001b[1;32m   (...)\u001b[0m\n\u001b[0;32m     10\u001b[0m \u001b[39m    trim_conversation\u001b[39;00m\n\u001b[0;32m     11\u001b[0m \u001b[39m    '''\u001b[39;00m\n",
      "\u001b[1;31mImportError\u001b[0m: attempted relative import with no known parent package"
     ]
    }
   ],
   "source": [
    "from utils.chatgpt_utils import num_tokens_from_messages\n",
    "from chat_model import ChatModel\n",
    "import openai\n",
    "\n",
    "chatModel = ChatModel()\n",
    "chatModel.add_system_message(\"You are a helpful assistant.\")\n",
    "\n",
    "\n",
    "while(True):\n",
    "    user_input = input(\"\")\n",
    "    chatModel.add_user_question(user_input)\n",
    "\n",
    "    print(f\"Conversation history token count before answer: {chatModel.num_tokens}\")\n",
    "    while (chatModel.num_tokens + chatModel.max_response_tokens >= chatModel.token_limit):\n",
    "        chatModel.trim_conversation()\n",
    "    print(f\"Conversation length: {len(chatModel.conversation)}\")\n",
    "\n",
    "    response = openai.ChatCompletion.create(\n",
    "        model=\"gpt-3.5-turbo-0301\",\n",
    "        messages = chatModel.conversation,\n",
    "        temperature=.7,\n",
    "        max_tokens=chatModel.max_response_tokens,\n",
    "    )\n",
    "\n",
    "    chatModel.add_assistant_answer(response['choices'][0]['message']['content'])\n",
    "    print(response)\n",
    "    post_response = chatModel.num_tokens\n",
    "    print(f\"Post response total token count: {post_response}\")\n",
    "    \n",
    "    assert(post_response == num_tokens_from_messages(chatModel.conversation))"
   ]
  },
  {
   "cell_type": "code",
   "execution_count": null,
   "metadata": {},
   "outputs": [],
   "source": []
  },
  {
   "cell_type": "code",
   "execution_count": null,
   "metadata": {},
   "outputs": [],
   "source": []
  },
  {
   "cell_type": "code",
   "execution_count": null,
   "metadata": {},
   "outputs": [],
   "source": []
  },
  {
   "cell_type": "code",
   "execution_count": null,
   "metadata": {},
   "outputs": [],
   "source": []
  },
  {
   "cell_type": "code",
   "execution_count": null,
   "metadata": {},
   "outputs": [],
   "source": []
  },
  {
   "cell_type": "code",
   "execution_count": null,
   "metadata": {},
   "outputs": [],
   "source": []
  }
 ],
 "metadata": {
  "kernelspec": {
   "display_name": "longchat",
   "language": "python",
   "name": "python3"
  },
  "language_info": {
   "codemirror_mode": {
    "name": "ipython",
    "version": 3
   },
   "file_extension": ".py",
   "mimetype": "text/x-python",
   "name": "python",
   "nbconvert_exporter": "python",
   "pygments_lexer": "ipython3",
   "version": "3.8.16"
  },
  "orig_nbformat": 4
 },
 "nbformat": 4,
 "nbformat_minor": 2
}
